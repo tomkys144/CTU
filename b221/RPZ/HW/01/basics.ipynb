{
 "cells": [
  {
   "cell_type": "markdown",
   "metadata": {},
   "source": [
    "# Task 01 - BASICS\n",
    "## Pattern Recognition and Machine Learning\n",
    "#### import "
   ]
  },
  {
   "cell_type": "code",
   "execution_count": 1,
   "metadata": {},
   "outputs": [],
   "source": [
    "%load_ext autoreload\n",
    "%autoreload 2\n",
    "import numpy as np\n",
    "from PIL import Image\n",
    "import matplotlib.pyplot as plt\n",
    "\n",
    "from basics import *\n",
    "import time as t"
   ]
  },
  {
   "cell_type": "markdown",
   "metadata": {},
   "source": [
    "## A) Short NumPy introduction\n",
    "\n",
    "### NumPy\n",
    "NumPy is a library for the Python programming language, adding support for large, multi-dimensional arrays and matrices, along with a large collection of high-level mathematical functions to operate on these arrays [[1]](https://en.wikipedia.org/wiki/NumPy).\n",
    "\n",
    "**If you are unfamiliar with NumPy**, please start with [NumPy Quickstart](https://numpy.org/doc/stable/user/quickstart.html) or [Numpy Introduction](https://www.w3schools.com/python/numpy/numpy_intro.asp) or tutorial according to [your preference](https://letmegooglethat.com/?q=How+to+start+with+numpy).\n",
    "\n",
    "\n",
    "### PyPlot\n",
    "**matplotlib.pyplot** is a collection of functions for figures creation and plotting. The matplotlib is designed to work similar to MATLAB - [PyPlot Introduction](https://matplotlib.org/stable/tutorials/introductory/index.html).\n",
    "\n",
    "For majority of the task we prepared all plotting functions. However, we recomend to be familiar with this library as well. It will be useful for debugging your assignments and for your future projects outside the RPZ scope.\n",
    "\n",
    "### What to Avoid?\n",
    "Try to **avoid loops** for numeric operations. Loops are slow in a pure Python. Instead, try to find NumPy alternative. Maximal evaluation time in AE BRUTE is 15 minutes. For simple tasks it is more then enought. However, during semester will be crucial to avoid loops to do not exceed evaluation limit.\n",
    "\n",
    "Look for a following example of a simple mean computation with loops and with the NumPy function, think about the speed and also about a code readability.\n",
    "\n",
    "#### a) Generate data"
   ]
  },
  {
   "cell_type": "code",
   "execution_count": 4,
   "metadata": {},
   "outputs": [],
   "source": [
    "# generate (1000000,5) random numbers from -5 to 10 (uniform distribution)\n",
    "M = np.random.uniform(low=-5.0, high=10.0, size=(1000000, 5))"
   ]
  },
  {
   "cell_type": "markdown",
   "metadata": {},
   "source": [
    "#### b) Loops"
   ]
  },
  {
   "cell_type": "code",
   "execution_count": 5,
   "metadata": {},
   "outputs": [],
   "source": [
    "t1 = t.time()\n",
    "\n",
    "H, W = M.shape\n",
    "M_sum_loop = np.zeros((W, ), dtype=float)\n",
    "for i in range(W):\n",
    "    current_sum = 0.0\n",
    "    for j in range(H):\n",
    "        current_sum += M[j,i]\n",
    "    M_sum_loop[i] = current_sum / H\n",
    "\n",
    "t2 = t.time()"
   ]
  },
  {
   "cell_type": "code",
   "execution_count": 6,
   "metadata": {},
   "outputs": [
    {
     "name": "stdout",
     "output_type": "stream",
     "text": [
      "[2.49628516 2.50501001 2.49567519 2.49791683 2.49414662]\n",
      "Loop time: 1.205 seconds\n"
     ]
    }
   ],
   "source": [
    "print(M_sum_loop)\n",
    "print(f'Loop time: {t2 - t1:.3f} seconds')"
   ]
  },
  {
   "cell_type": "markdown",
   "metadata": {},
   "source": [
    "#### c) Numpy function"
   ]
  },
  {
   "cell_type": "code",
   "execution_count": 7,
   "metadata": {},
   "outputs": [],
   "source": [
    "t1 = t.time()\n",
    "\n",
    "M_sum_numpy = np.mean(M, axis=0)\n",
    "\n",
    "t2 = t.time()"
   ]
  },
  {
   "cell_type": "code",
   "execution_count": 7,
   "metadata": {},
   "outputs": [
    {
     "name": "stdout",
     "output_type": "stream",
     "text": [
      "[2.5060832  2.49536187 2.49411457 2.5075368  2.50928338]\n",
      "Numpy time: 0.038 seconds\n"
     ]
    }
   ],
   "source": [
    "print(M_sum_numpy)\n",
    "print(f'Numpy time: {t2 - t1:.3f} seconds')"
   ]
  },
  {
   "cell_type": "markdown",
   "metadata": {},
   "source": [
    "### Useful NumPy functions\n",
    "\n",
    "You may find useful following function for this and future assignments. Read [the documentation](https://numpy.org/doc/stable/reference/index.html).\n",
    "\n",
    "* np.array(), np.shape(), np.dot(), np.mean(), np.sum(), **np.cumsum()**\n",
    "* np.min(), np.max(), **np.argmin(), np.argmax()**, np.amin(), np.amax()\n",
    "* **np.sort(), np.argsort()**\n",
    "* **np.concatenate(), np.squeeze(), np.flatten(), np.expand_dims()**\n",
    "* **np.stack()**, np.vstack(), np.hstack(), np.dstack()\n",
    "* np.logical_and(), np.logical_not(), np.logical_or()\n",
    "* np.linspace(), np.histogram(), np.meshgrid()\n",
    "* **.shape, .astype(), np.reshape()**\n",
    "* np.kron(), np.tile()\n",
    "* np.unique()\n",
    "* **np.linarg.norm()**\n",
    "* and many others"
   ]
  },
  {
   "cell_type": "markdown",
   "metadata": {},
   "source": [
    "## B) Matrix manipulation with NumPy\n",
    "\n",
    "Now you know basic NumPy operations. In the first part of today’s assignment, you will start with some simple matrix manipulation tasks. **Try to avoid loops**. Full text of the assignment is written on the [RPZ CW](https://cw.fel.cvut.cz/). \n",
    "\n",
    "\n",
    "#### sample data creation"
   ]
  },
  {
   "cell_type": "code",
   "execution_count": 8,
   "metadata": {},
   "outputs": [],
   "source": [
    "A = np.array([[16,  2,  3, 13],\n",
    "              [ 5, 11, 10,  8],\n",
    "              [ 9,  7,  6, 12],\n",
    "              [ 4, 14, 15,  1]])\n",
    "\n",
    "B = np.array([[ 3, 4, 9, 4, 3, 6, 6, 2, 3, 4],\n",
    "              [ 9, 2,10, 1, 4, 3, 7, 1, 3, 5]])"
   ]
  },
  {
   "cell_type": "markdown",
   "metadata": {},
   "source": [
    "#### the function you are suppose to implement"
   ]
  },
  {
   "cell_type": "code",
   "execution_count": 9,
   "metadata": {},
   "outputs": [],
   "source": [
    "output = matrix_manip(A,B)"
   ]
  },
  {
   "cell_type": "markdown",
   "metadata": {},
   "source": [
    "#### output"
   ]
  },
  {
   "cell_type": "code",
   "execution_count": 10,
   "metadata": {},
   "outputs": [
    {
     "name": "stdout",
     "output_type": "stream",
     "text": [
      "A_3rd_col:\n",
      "[[ 3]\n",
      " [10]\n",
      " [ 6]\n",
      " [15]]\n",
      "\n",
      "A_gr_inc:\n",
      "[[17  2  3 14  1]\n",
      " [ 6 12 11  9  1]\n",
      " [10  8  7 13  1]\n",
      " [ 5 15 16  1  1]]\n",
      "\n",
      "A_slice:\n",
      "[[ 7  6 12]\n",
      " [14 15  1]]\n",
      "\n",
      "A_transpose:\n",
      "[[16  5  9  4]\n",
      " [ 2 11  7 14]\n",
      " [ 3 10  6 15]\n",
      " [13  8 12  1]]\n",
      "\n",
      "A_weighted_col_sum:\n",
      "391.0\n",
      "\n",
      "C:\n",
      "[[499 286 390 178]\n",
      " [286 383 351 396]\n",
      " [390 351 383 296]\n",
      " [178 396 296 508]]\n",
      "\n",
      "D:\n",
      "[[-1  0  5  0 -1  2  2 -2 -1  0]\n",
      " [ 3 -4  4 -5 -2 -3  1 -5 -3 -1]]\n",
      "\n",
      "D_select:\n",
      "[[ 0  5  0 -2]\n",
      " [-4  4 -5 -5]]\n",
      "\n"
     ]
    }
   ],
   "source": [
    "for key in sorted(output.keys()):\n",
    "    print ('{}:\\n{}\\n'.format(key, output[key]))\n",
    "# A_3rd_col:\n",
    "# [[ 3]\n",
    "#  [10]\n",
    "#  [ 6]\n",
    "#  [15]]\n",
    "\n",
    "# A_gr_inc:\n",
    "# [[17  2  3 14  1]\n",
    "#  [ 6 12 11  9  1]\n",
    "#  [10  8  7 13  1]\n",
    "#  [ 5 15 16  1  1]]\n",
    "\n",
    "# A_slice:\n",
    "# [[ 7  6 12]\n",
    "#  [14 15  1]]\n",
    "\n",
    "# A_transpose:\n",
    "# [[16  5  9  4]\n",
    "#  [ 2 11  7 14]\n",
    "#  [ 3 10  6 15]\n",
    "#  [13  8 12  1]]\n",
    "\n",
    "# A_weighted_col_sum:\n",
    "# 391.0\n",
    "\n",
    "# C:\n",
    "# [[499 286 390 178]\n",
    "#  [286 383 351 396]\n",
    "#  [390 351 383 296]\n",
    "#  [178 396 296 508]]\n",
    "\n",
    "# D:\n",
    "# [[-1  0  5  0 -1  2  2 -2 -1  0]\n",
    "#  [ 3 -4  4 -5 -2 -3  1 -5 -3 -1]]\n",
    "\n",
    "# D_select:\n",
    "# [[ 0  5  0 -2]\n",
    "#  [-4  4 -5 -5]]"
   ]
  },
  {
   "cell_type": "markdown",
   "metadata": {},
   "source": [
    "## C) Simple data task in Python\n",
    "\n",
    "#### Load data"
   ]
  },
  {
   "cell_type": "code",
   "execution_count": 2,
   "metadata": {},
   "outputs": [],
   "source": [
    "loaded_data = np.load(\"data_33rpz_basics.npz\")\n",
    "alphabet = loaded_data[\"alphabet\"]\n",
    "images = loaded_data[\"images\"]\n",
    "labels = loaded_data[\"labels\"]"
   ]
  },
  {
   "cell_type": "code",
   "execution_count": 4,
   "metadata": {},
   "outputs": [
    {
     "data": {
      "text/plain": [
       "array([15])"
      ]
     },
     "execution_count": 4,
     "metadata": {},
     "output_type": "execute_result"
    }
   ],
   "source": [
    "np.where(alphabet == 'T')[0]"
   ]
  },
  {
   "cell_type": "markdown",
   "metadata": {},
   "source": [
    "#### Compute letters' means and save images"
   ]
  },
  {
   "cell_type": "code",
   "execution_count": 3,
   "metadata": {},
   "outputs": [],
   "source": [
    "initialMean1 = compute_letter_mean(\"T\", alphabet, images, labels)\n",
    "Image.fromarray(initialMean1, mode='L').save(\"initial1_mean.png\")\n",
    "\n",
    "initialMean2 = compute_letter_mean(\"K\", alphabet, images, labels)\n",
    "Image.fromarray(initialMean2, mode='L').save(\"initial2_mean.png\")"
   ]
  },
  {
   "cell_type": "markdown",
   "metadata": {},
   "source": [
    "####  Show images"
   ]
  },
  {
   "cell_type": "code",
   "execution_count": 4,
   "metadata": {},
   "outputs": [
    {
     "data": {
      "image/png": "[encoded data removed]",
      "text/plain": [
       "<Figure size 640x480 with 1 Axes>"
      ]
     },
     "metadata": {},
     "output_type": "display_data"
    },
    {
     "data": {
      "image/png": "[encoded data removed]",
      "text/plain": [
       "<Figure size 640x480 with 1 Axes>"
      ]
     },
     "metadata": {},
     "output_type": "display_data"
    }
   ],
   "source": [
    "plt.figure()\n",
    "plt.title(\"R mean\")\n",
    "plt.imshow(initialMean1, cmap='gray')\n",
    "\n",
    "plt.figure()\n",
    "plt.title(\"A mean\")\n",
    "plt.imshow(initialMean2, cmap='gray')\n",
    "plt.show()"
   ]
  },
  {
   "cell_type": "code",
   "execution_count": 5,
   "metadata": {},
   "outputs": [
    {
     "data": {
      "application/vnd.jupyter.widget-view+json": {
       "model_id": "11742dd4b6484397bd7e68238b2b2388",
       "version_major": 2,
       "version_minor": 0
      },
      "text/plain": [
       "interactive(children=(Dropdown(description='letter', index=13, options=('A', 'B', 'C', 'D', 'E', 'H', 'I', 'J'…"
      ]
     },
     "metadata": {},
     "output_type": "display_data"
    }
   ],
   "source": [
    "plot_letter_mean_interactive(alphabet, images, labels)"
   ]
  },
  {
   "cell_type": "markdown",
   "metadata": {},
   "source": [
    "#### Compute histograms"
   ]
  },
  {
   "cell_type": "code",
   "execution_count": 16,
   "metadata": {},
   "outputs": [
    {
     "name": "stdout",
     "output_type": "stream",
     "text": [
      "[  120  1223  -144  -161   197 -2921  -998  -944  -120  -304  -884 -1461\n",
      " -1233  1444  1705  1332   881   212    92   319 -3104 -2829   255     1\n",
      " -1763  2230  1916  -335  -257 -3568 -5204 -1144  -641   525   182  -768\n",
      "  -844  1536  1139   522   495   353  -251  1345   439  1114 -2087  -107\n",
      "  -563  1491 -1935 -1640  1979  2215   906  1726  1332   365   825  2776\n",
      "  1282   708  1010   429  1141  1145  1896     7  -642  -657    36   368\n",
      "  1079    79  -483   327  -135   888  2270  2211  3860  1248  1371  -857\n",
      "   100  -134  -946  1954  1979 -1575  -837  1363   803   546 -1916 -1808\n",
      "   370  -435  -363   497]\n"
     ]
    }
   ],
   "source": [
    "features_1 = compute_lr_features('A', alphabet, images, labels)\n",
    "print(features_1)\n",
    "# [  120  1223  -144  -161   197 -2921  -998  -944  -120  -304  -884 -1461\n",
    "#  -1233  1444  1705  1332   881   212    92   319 -3104 -2829   255     1\n",
    "#  -1763  2230  1916  -335  -257 -3568 -5204 -1144  -641   525   182  -768\n",
    "#   -844  1536  1139   522   495   353  -251  1345   439  1114 -2087  -107\n",
    "#   -563  1491 -1935 -1640  1979  2215   906  1726  1332   365   825  2776\n",
    "#   1282   708  1010   429  1141  1145  1896     7  -642  -657    36   368\n",
    "#   1079    79  -483   327  -135   888  2270  2211  3860  1248  1371  -857\n",
    "#    100  -134  -946  1954  1979 -1575  -837  1363   803   546 -1916 -1808\n",
    "#    370  -435  -363   497]"
   ]
  },
  {
   "cell_type": "code",
   "execution_count": 6,
   "metadata": {},
   "outputs": [],
   "source": [
    "letters = 'TK'\n",
    "features_1 = compute_lr_features(letters[0], alphabet, images, labels)\n",
    "features_2 = compute_lr_features(letters[1], alphabet, images, labels)"
   ]
  },
  {
   "cell_type": "code",
   "execution_count": 7,
   "metadata": {},
   "outputs": [
    {
     "data": {
      "image/png": "[encoded data removed]",
      "text/plain": [
       "<Figure size 640x480 with 1 Axes>"
      ]
     },
     "metadata": {},
     "output_type": "display_data"
    }
   ],
   "source": [
    "plot_letter_feature_histogram(features_1, features_2, letters, n_bins=20)\n",
    "plt.savefig(\"initials_histograms.png\")"
   ]
  },
  {
   "cell_type": "code",
   "execution_count": 8,
   "metadata": {},
   "outputs": [
    {
     "data": {
      "application/vnd.jupyter.widget-view+json": {
       "model_id": "9bdaa893f9204ca7ac81d5f80e8ea8a4",
       "version_major": 2,
       "version_minor": 0
      },
      "text/plain": [
       "interactive(children=(Dropdown(description='letterA', index=13, options=('A', 'B', 'C', 'D', 'E', 'H', 'I', 'J…"
      ]
     },
     "metadata": {},
     "output_type": "display_data"
    }
   ],
   "source": [
    "plot_letter_feature_histogram_interactive(alphabet, images, labels)"
   ]
  },
  {
   "cell_type": "code",
   "execution_count": null,
   "metadata": {},
   "outputs": [],
   "source": []
  }
 ],
 "metadata": {
  "kernelspec": {
   "display_name": "Python 3 (ipykernel)",
   "language": "python",
   "name": "python3"
  },
  "language_info": {
   "codemirror_mode": {
    "name": "ipython",
    "version": 3
   },
   "file_extension": ".py",
   "mimetype": "text/x-python",
   "name": "python",
   "nbconvert_exporter": "python",
   "pygments_lexer": "ipython3",
   "version": "3.10.4"
  },
  "name": "basics.ipynb"
 },
 "nbformat": 4,
 "nbformat_minor": 4
}
