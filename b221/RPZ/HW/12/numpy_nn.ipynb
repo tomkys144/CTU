{
 "cells": [
  {
   "cell_type": "markdown",
   "id": "b92e5170-0c35-4c81-a7e5-e4bb30ab9223",
   "metadata": {},
   "source": [
    "# Task 12 - CNN - part 1\n",
    "## Pattern Recognition and Machine Learning"
   ]
  },
  {
   "cell_type": "code",
   "execution_count": 123,
   "id": "78c4f422-910a-438c-a7a6-3ea3940f8c40",
   "metadata": {},
   "outputs": [
    {
     "name": "stdout",
     "output_type": "stream",
     "text": [
      "The autoreload extension is already loaded. To reload it, use:\n",
      "  %reload_ext autoreload\n"
     ]
    }
   ],
   "source": [
    "%load_ext autoreload\n",
    "%autoreload 2\n",
    "\n",
    "from numpy_nn import *\n",
    "import numpy as np\n",
    "import matplotlib.pyplot as plt\n",
    "import time\n",
    "import copy"
   ]
  },
  {
   "cell_type": "code",
   "execution_count": 124,
   "id": "b439619f-386f-487a-af11-b00ffc7a8acf",
   "metadata": {},
   "outputs": [],
   "source": [
    "# param for visualisation\n",
    "n_data = 1001\n",
    "n_data_bw = 7\n"
   ]
  },
  {
   "cell_type": "markdown",
   "id": "61b722df-10c1-43b3-b92e-63ab969efb2f",
   "metadata": {},
   "source": [
    "# A) Individual Layers\n",
    "\n",
    "## Fully-Connected (Linear) layer"
   ]
  },
  {
   "cell_type": "code",
   "execution_count": 125,
   "id": "65f167ef-97d3-472a-93e2-65de14229ad7",
   "metadata": {},
   "outputs": [
    {
     "data": {
      "text/plain": "<Figure size 640x480 with 1 Axes>",
      "image/png": "[encoded data removed]"
     },
     "metadata": {},
     "output_type": "display_data"
    }
   ],
   "source": [
    "# set layer params\n",
    "input_dim = 1\n",
    "output_dim = 1\n",
    "\n",
    "# create instance of linear layer\n",
    "linear_layer = Linear(input_dim, output_dim)\n",
    "\n",
    "# set (pre-trained) weights and bias of linear layer (for demonstration)\n",
    "linear_layer.W = np.array(0.5).reshape(input_dim, output_dim)\n",
    "linear_layer.b = np.array(0.2).reshape(1, output_dim)\n",
    "\n",
    "# set data \n",
    "batch_size = n_data\n",
    "x = np.linspace(-1, 1, batch_size * input_dim).reshape(batch_size, input_dim)\n",
    "\n",
    "# forward pass of linear layer\n",
    "forward_output = linear_layer.forward(x)\n",
    "\n",
    "# visualize results \n",
    "visualize_xy([(x, forward_output)], ['forward'], title='Linear layer', xlabel='$x$ (individual inputs)', ylabel='$z = wx + b$', axis='equal', grid=True, linestyle='b', save_filepath='layer_linear_forward.png')"
   ]
  },
  {
   "cell_type": "code",
   "execution_count": 126,
   "id": "1879f0ac-44b3-4119-9d30-2f6d903af0bd",
   "metadata": {},
   "outputs": [],
   "source": [
    "# set layer params\n",
    "input_dim = 3\n",
    "output_dim = 2\n",
    "\n",
    "# create instance of linear layer\n",
    "linear_layer = Linear(input_dim, output_dim)\n",
    "\n",
    "# set (pre-trained) weights and bias of linear layer (for demonstration)\n",
    "linear_layer.W = np.linspace(1, -1, input_dim * output_dim).reshape(input_dim, output_dim)\n",
    "linear_layer.b = np.linspace(-0.5, 0.5, output_dim).reshape(1, output_dim)\n",
    "\n",
    "# set data \n",
    "batch_size = 2\n",
    "x = np.linspace(-2, 2, batch_size * input_dim).reshape(batch_size, input_dim)\n",
    "\n",
    "# forward pass of linear layer\n",
    "forward_output = linear_layer.forward(x)"
   ]
  },
  {
   "cell_type": "markdown",
   "id": "b742098a-8b9c-43e7-9538-308546030e45",
   "metadata": {},
   "source": [
    "For the prepared params and data, output should be:<br>\n",
    "```\n",
    "Forward pass of your linear layer:\n",
    "[[-2.5  -0.06]\n",
    " [-1.06 -1.5 ]]\n",
    "```"
   ]
  },
  {
   "cell_type": "code",
   "execution_count": 127,
   "id": "832382e4-e686-4b46-9ba2-622eb4e33cf2",
   "metadata": {},
   "outputs": [
    {
     "name": "stdout",
     "output_type": "stream",
     "text": [
      "Forward pass of your linear layer:\n",
      "[[-2.5  -0.06]\n",
      " [-1.06 -1.5 ]]\n",
      "\n"
     ]
    }
   ],
   "source": [
    "# printing results\n",
    "print(f'Forward pass of your linear layer:\\n{forward_output}\\n')"
   ]
  },
  {
   "cell_type": "code",
   "execution_count": 128,
   "id": "a082ff0d-024a-442f-b6ac-85e72b6850fe",
   "metadata": {},
   "outputs": [],
   "source": [
    "# set gradient of loss wrt layer output\n",
    "dL_wrt_output = np.linspace(1,2,output_dim * batch_size).reshape(batch_size, output_dim)\n",
    "\n",
    "# backward pass of linear layer (computation of gradient of loss wrt layer input)\n",
    "dL_wrt_x = linear_layer.backward(dL_wrt_output)"
   ]
  },
  {
   "cell_type": "markdown",
   "id": "38e264b5-84d8-41c1-bde0-67921c2b77d4",
   "metadata": {},
   "source": [
    "For the prepared params and data, output should be:<br>\n",
    "```\n",
    "Backward pass of your linear layer:\n",
    "[[ 1.8        -0.06666667 -1.93333333]\n",
    " [ 2.86666667 -0.06666667 -3.        ]]\n",
    "\n",
    "Weights gradients:\n",
    "[[[-2.         -2.66666667]\n",
    "  [-1.2        -1.6       ]\n",
    "  [-0.4        -0.53333333]]\n",
    "\n",
    " [[ 0.66666667  0.8       ]\n",
    "  [ 2.          2.4       ]\n",
    "  [ 3.33333333  4.        ]]]\n",
    "\n",
    "Bias gradients:\n",
    "[[[1.         1.33333333]]\n",
    "\n",
    " [[1.66666667 2.        ]]]\n",
    "```"
   ]
  },
  {
   "cell_type": "code",
   "execution_count": 129,
   "id": "d011b6bb-a12b-44e0-9f4e-13551fc84057",
   "metadata": {},
   "outputs": [
    {
     "name": "stdout",
     "output_type": "stream",
     "text": [
      "Backward pass of your linear layer:\n",
      "[[ 1.8        -0.06666667 -1.93333333]\n",
      " [ 2.86666667 -0.06666667 -3.        ]]\n",
      "\n",
      "Weights gradients:\n",
      "[[[-2.         -2.66666667]\n",
      "  [-1.2        -1.6       ]\n",
      "  [-0.4        -0.53333333]]\n",
      "\n",
      " [[ 0.66666667  0.8       ]\n",
      "  [ 2.          2.4       ]\n",
      "  [ 3.33333333  4.        ]]]\n",
      "\n",
      "Bias gradients:\n",
      "[[[1.         1.33333333]]\n",
      "\n",
      " [[1.66666667 2.        ]]]\n"
     ]
    }
   ],
   "source": [
    "# printing results\n",
    "print(f'Backward pass of your linear layer:\\n{dL_wrt_x}\\n\\n'+\\\n",
    "    f'Weights gradients:\\n{linear_layer.dL_wrt_W}\\n\\n'+\\\n",
    "    f'Bias gradients:\\n{linear_layer.dL_wrt_b}')"
   ]
  },
  {
   "cell_type": "markdown",
   "id": "2e38aaba-6315-4c91-90aa-eeca653782ef",
   "metadata": {},
   "source": [
    "## Rectified Linear Unit (ReLU)\n",
    "#### Forward"
   ]
  },
  {
   "cell_type": "code",
   "execution_count": 130,
   "id": "0733d781-9e7c-4165-869f-a19b1252a004",
   "metadata": {},
   "outputs": [
    {
     "data": {
      "text/plain": "<Figure size 640x480 with 1 Axes>",
      "image/png": "[encoded data removed]"
     },
     "metadata": {},
     "output_type": "display_data"
    }
   ],
   "source": [
    "# set data\n",
    "x_relu = np.linspace(-1,1,n_data)\n",
    "\n",
    "# create instance of ReLU layer\n",
    "relu_layer = ReLU()\n",
    "\n",
    "# compute forward pass ReLU\n",
    "forward_output_relu = relu_layer.forward(x_relu)\n",
    "\n",
    "# visualize results\n",
    "visualize_xy([(x_relu, forward_output_relu)], ['forward'], title='ReLU', axis='equal', xlabel='$x$', ylabel='$z$', linestyle='b', grid=True, save_filepath='layer_relu_forward.png')"
   ]
  },
  {
   "cell_type": "markdown",
   "id": "f084f516-1db7-419b-b108-fe5edc5bbc7a",
   "metadata": {},
   "source": [
    "## Rectified Linear Unit (ReLU)\n",
    "#### Backward\n",
    "\n",
    "For the prepared params and data, output should be:<br>\n",
    "```\n",
    "Backward pass of your ReLU layer:\n",
    "[0.   0.   0.   0.   0.   0.25 0.5  0.75 1.  ]\n",
    "```"
   ]
  },
  {
   "cell_type": "code",
   "execution_count": 131,
   "id": "2bff6c81-44ca-40a2-8259-d1a2e3a3b1cf",
   "metadata": {},
   "outputs": [
    {
     "name": "stdout",
     "output_type": "stream",
     "text": [
      "Backward pass of your ReLU layer:\n",
      "[0.   0.   0.   0.   0.   0.25 0.5  0.75 1.  ]\n"
     ]
    }
   ],
   "source": [
    "# set gradient of loss wrt layer output\n",
    "n_data_bw = 9\n",
    "dL_wrt_output_relu = np.linspace(-1,1,n_data_bw)\n",
    "\n",
    "# set forward pass data and computation\n",
    "x_relu = np.linspace(-1,1,n_data_bw)\n",
    "_ = relu_layer.forward(x_relu)\n",
    "\n",
    "# compute backward pass ReLU\n",
    "dL_wrt_x_relu = relu_layer.backward(dL_wrt_output_relu)\n",
    "\n",
    "print(f'Backward pass of your ReLU layer:\\n{dL_wrt_x_relu}')"
   ]
  },
  {
   "cell_type": "markdown",
   "id": "4915e9ba-8f19-4695-8e71-fef144d99686",
   "metadata": {},
   "source": [
    "## Sigmoid non-linearity\n",
    "#### Forward"
   ]
  },
  {
   "cell_type": "code",
   "execution_count": 132,
   "id": "ac43ea64-c302-4bb5-9b4e-f99992cd2475",
   "metadata": {},
   "outputs": [
    {
     "data": {
      "text/plain": "<Figure size 640x480 with 1 Axes>",
      "image/png": "[encoded data removed]"
     },
     "metadata": {},
     "output_type": "display_data"
    }
   ],
   "source": [
    "# set data\n",
    "x_sigmoid = np.linspace(-10,10,1001)\n",
    "\n",
    "# create instance of Sigmoid layer\n",
    "sigmoid_layer = Sigmoid()\n",
    "\n",
    "# compute forward pass sigmoid\n",
    "forward_output_sigmoid = sigmoid_layer.forward(x_sigmoid)\n",
    "\n",
    "# visualize results\n",
    "visualize_xy([(x_sigmoid, forward_output_sigmoid)], ['forward'], title='Sigmoid', xlabel='$x$', ylabel='$z$', grid=True, linestyle='b', save_filepath='layer_sigmoid_forward.png')"
   ]
  },
  {
   "cell_type": "markdown",
   "id": "30e3d555-3208-4ca6-a91c-48e901303b58",
   "metadata": {},
   "source": [
    "## Sigmoid non-linearity\n",
    "#### Backward\n",
    "\n",
    "For the prepared params and data, output should be:\n",
    "```\n",
    "Backward pass of your Sigmoid layer:\n",
    "[-0.06648057 -0.35051858  0.          0.35051858  0.06648057]\n",
    "```"
   ]
  },
  {
   "cell_type": "code",
   "execution_count": 133,
   "id": "52a67dbe-5dbe-4b2f-b228-c3a7cc983eca",
   "metadata": {},
   "outputs": [
    {
     "name": "stdout",
     "output_type": "stream",
     "text": [
      "Backward pass of your Sigmoid layer:\n",
      "[-0.06648057 -0.35051858  0.          0.35051858  0.06648057]\n"
     ]
    }
   ],
   "source": [
    "# set gradient of loss wrt layer output\n",
    "n_data_bw = 5\n",
    "dL_wrt_output_sigmoid = np.linspace(-10,10,n_data_bw)\n",
    "\n",
    "# set forward pass data and computation\n",
    "x_sigmoid = np.linspace(-5,5,n_data_bw)\n",
    "_ = sigmoid_layer.forward(x_sigmoid)\n",
    "\n",
    "# compute backward pass ReLU\n",
    "dL_wrt_x_sigmoid = sigmoid_layer.backward(dL_wrt_output_sigmoid)\n",
    "\n",
    "print(f'Backward pass of your Sigmoid layer:\\n{dL_wrt_x_sigmoid}')"
   ]
  },
  {
   "cell_type": "markdown",
   "id": "e41214a9-f33b-4bbb-8938-146b16288849",
   "metadata": {},
   "source": [
    "## Squared Error Loss\n",
    "#### Forward"
   ]
  },
  {
   "cell_type": "code",
   "execution_count": 134,
   "id": "1af9f85a-49a1-46fe-a7dc-3caf780ec34a",
   "metadata": {},
   "outputs": [
    {
     "data": {
      "text/plain": "<Figure size 640x480 with 1 Axes>",
      "image/png": "[encoded data removed]"
     },
     "metadata": {},
     "output_type": "display_data"
    }
   ],
   "source": [
    "# set input data and ground truth data\n",
    "x_se = np.linspace(-2,2,1001)\n",
    "gt_se = 0 * x_se\n",
    "\n",
    "# create instance of Squared Error Loss layer\n",
    "se_layer = SE()\n",
    "\n",
    "# compute SE loss\n",
    "loss_se = se_layer.forward(x_se, gt_se)\n",
    "\n",
    "# visualize results\n",
    "visualize_xy([(x_se, loss_se)], ['forward'], title='Squared Error Loss', axis='equal', xlabel='$x$', ylabel='$z$', linestyle='b', grid=True, save_filepath='layer_se_forward.png')"
   ]
  },
  {
   "cell_type": "markdown",
   "id": "aa111219-7cb4-44b9-88c7-8de9619473b1",
   "metadata": {},
   "source": [
    "## Squared Error Loss\n",
    "#### Backward\n",
    "\n",
    "For the prepared params and data, output should be:\n",
    "```\n",
    "Backward pass of your Squared Error Loss layer:\n",
    "[-5.   -3.75 -2.5  -1.25  0.    1.25  2.5   3.75  5.  ]\n",
    "```"
   ]
  },
  {
   "cell_type": "code",
   "execution_count": 135,
   "id": "a3d31c14-68d1-42b4-83ca-f45bc910ff4f",
   "metadata": {},
   "outputs": [
    {
     "name": "stdout",
     "output_type": "stream",
     "text": [
      "Backward pass of your Squared Error Loss layer:\n",
      "[-5.   -3.75 -2.5  -1.25  0.    1.25  2.5   3.75  5.  ]\n"
     ]
    }
   ],
   "source": [
    "# set gradient of loss wrt layer output\n",
    "n_data_bw = 9\n",
    "dL_wrt_output_se = np.linspace(-10,10,n_data_bw)\n",
    "\n",
    "# set forward pass data and computation ReLU(),\n",
    "x_se = np.linspace(-5,5,n_data_bw)\n",
    "_ = se_layer.forward(x_se, 0.5*x_se)\n",
    "\n",
    "# compute backward pass ReLU40\n",
    "dL_wrt_x_se = se_layer.backward()\n",
    "\n",
    "print(f'Backward pass of your Squared Error Loss layer:\\n{dL_wrt_x_se}')"
   ]
  },
  {
   "cell_type": "markdown",
   "id": "c55a27c3-b93b-4dae-af7a-252718bea058",
   "metadata": {},
   "source": [
    "# B) Building Neural Network Model\n",
    "### Set hyperparameters\n",
    "\n",
    "Experiment with this setting as mentioned on the assignment CW page."
   ]
  },
  {
   "cell_type": "markdown",
   "id": "8e558976-6cd1-4ceb-a674-18eec88f233f",
   "metadata": {},
   "source": [
    "### load data - set which two MNIST digits you want to classify\n"
   ]
  },
  {
   "cell_type": "code",
   "execution_count": 136,
   "outputs": [],
   "source": [
    "learning_rate = 0.01\n",
    "batch_size = 16\n",
    "N_epochs = 90\n",
    "validation_set_fraction = 0.2\n",
    "\n"
   ],
   "metadata": {
    "collapsed": false
   }
  },
  {
   "cell_type": "code",
   "execution_count": 137,
   "id": "14c9d283-a508-42cf-b679-bd24bef8bbe3",
   "metadata": {},
   "outputs": [],
   "source": [
    "class_a = 4\n",
    "class_b = 9\n",
    "\n",
    "(X_trn, y_trn), (X_tst, y_tst) = load_data('full-mnist.npz',\n",
    "                                           class_a,\n",
    "                                           class_b)\n",
    "\n",
    "N_trn, D = X_trn.shape\n",
    "assert D == 28*28\n",
    "assert y_trn.shape == (N_trn, 1)"
   ]
  },
  {
   "cell_type": "markdown",
   "id": "1a5c33ad-4e9f-41bb-b7d2-004bd8e388fe",
   "metadata": {},
   "source": [
    "### Shuffle the dataset\n"
   ]
  },
  {
   "cell_type": "code",
   "execution_count": 138,
   "id": "8855e849-765e-4939-9225-2604e99f3010",
   "metadata": {},
   "outputs": [],
   "source": [
    "trn_indices = np.arange(N_trn)\n",
    "np.random.shuffle(trn_indices)\n",
    "X_trn = X_trn[trn_indices, :]\n",
    "y_trn = y_trn[trn_indices, :]"
   ]
  },
  {
   "cell_type": "markdown",
   "id": "93722383-5bb3-471f-a595-45b72ebe2a93",
   "metadata": {},
   "source": [
    "### Split into train/val\n"
   ]
  },
  {
   "cell_type": "code",
   "execution_count": 139,
   "id": "2078896d-2825-422e-b7a3-6a983c2ba8e7",
   "metadata": {},
   "outputs": [],
   "source": [
    "idx_split = int(np.round(N_trn * validation_set_fraction))\n",
    "\n",
    "X_val = X_trn[:idx_split, :]\n",
    "X_trn = X_trn[idx_split:, :]\n",
    "N_trn = X_trn.shape[0]\n",
    "N_val = X_val.shape[0]\n",
    "\n",
    "y_val = y_trn[:idx_split, :]\n",
    "y_trn = y_trn[idx_split:, :]"
   ]
  },
  {
   "cell_type": "markdown",
   "id": "f9fed260-4111-4918-9c5b-5c7fdf85e8ae",
   "metadata": {},
   "source": [
    "## Now, the magic happens - we build a model...\n",
    "\n",
    "Experiment with model structure as mentioned on the assignment CW page."
   ]
  },
  {
   "cell_type": "code",
   "execution_count": 140,
   "id": "523dc377-af66-4dd5-a54e-8d08a9fea281",
   "metadata": {},
   "outputs": [],
   "source": [
    "model = [Linear(D, 200),ReLU(), Linear(200, 1), Sigmoid()]\n",
    "trn_head = SE()\n",
    "\n"
   ]
  },
  {
   "cell_type": "markdown",
   "id": "335b162f-a2c6-4c45-a3e2-5d2e1421826e",
   "metadata": {},
   "source": [
    "## And train!\n",
    "\n",
    "You do not need to modify this block of code. Read carefully for a better understanding."
   ]
  },
  {
   "cell_type": "code",
   "execution_count": null,
   "id": "62547c31-436c-4811-9e6d-703db3644718",
   "metadata": {
    "pycharm": {
     "is_executing": true
    }
   },
   "outputs": [
    {
     "name": "stdout",
     "output_type": "stream",
     "text": [
      "[0000][TRN] MSE loss 0.414997 (5.9s)\n",
      "[0000][VAL] MSE loss 0.467784\n"
     ]
    }
   ],
   "source": [
    "model_best_params = []\n",
    "trn_losses = []\n",
    "val_losses = []\n",
    "best_val_loss_epoch = 0\n",
    "\n",
    "batch_count = int(np.ceil(N_trn / batch_size))\n",
    "for epoch in range(N_epochs):\n",
    "    try:\n",
    "        cumulative_epoch_trn_loss = 0  # just for reporting progress\n",
    "        time_start = time.time()\n",
    "        for batch_i in range(batch_count):\n",
    "            # load the minibatch:\n",
    "            batch_idx = range(batch_i * batch_size,\n",
    "                              min(N_trn, (batch_i + 1) * batch_size))\n",
    "\n",
    "            activation = X_trn[batch_idx]\n",
    "\n",
    "            # forward pass:\n",
    "            for layer in model:\n",
    "                activation = layer.forward(activation)\n",
    "\n",
    "            loss = trn_head.forward(activation, y_trn[batch_idx])\n",
    "            trn_loss = loss.mean()\n",
    "\n",
    "            cumulative_epoch_trn_loss += trn_loss\n",
    "\n",
    "            # backward pass:\n",
    "            grad_output = trn_head.backward()\n",
    "            for layer in reversed(model):\n",
    "                grad_output = layer.backward(grad_output)\n",
    "\n",
    "            # Update the weights with gradient descent\n",
    "            for layer in model:\n",
    "                for param_name, param_value in layer.params().items():\n",
    "                    param_value -= learning_rate * layer.grads()[param_name].mean(\n",
    "                        axis=0)  # mean across the minibatch\n",
    "\n",
    "        # validation\n",
    "        activation = X_val.copy()\n",
    "        for layer in model:\n",
    "            activation = layer.forward(activation)\n",
    "        val_losses.append(trn_head.forward(activation, y_val).mean())\n",
    "\n",
    "        # remember the best model so far\n",
    "        if len(val_losses) == 0 or val_losses[-1] < val_losses[best_val_loss_epoch]:\n",
    "            best_val_loss_epoch = epoch\n",
    "            model_best_params = [copy.deepcopy(layer.params()) for layer in model]\n",
    "\n",
    "        trn_losses.append(cumulative_epoch_trn_loss / batch_count)\n",
    "        if epoch % print_each == 0:\n",
    "            print(\"[{:04d}][TRN] MSE loss {:2f} ({:.1f}s)\".format(epoch, trn_losses[-1], time.time() - time_start))\n",
    "            print(\"[{:04d}][VAL] MSE loss {:2f}\".format(epoch, val_losses[-1]))\n",
    "    except KeyboardInterrupt:\n",
    "        print('Early exit')\n",
    "        break"
   ]
  },
  {
   "cell_type": "markdown",
   "id": "6102e84b-9b02-4079-a746-a94b0427f24a",
   "metadata": {},
   "source": [
    "### Plot epochs\n"
   ]
  },
  {
   "cell_type": "code",
   "execution_count": null,
   "id": "af195804-278f-4e63-98e4-cc3abc1052ff",
   "metadata": {
    "pycharm": {
     "is_executing": true
    }
   },
   "outputs": [],
   "source": [
    "visualize_data([val_losses, trn_losses], legend=['validation', 'training'], xlabel='epoch', ylabel='MSE', save_filepath='numpy_nn_training.png')"
   ]
  },
  {
   "cell_type": "markdown",
   "id": "d96a7858-92a4-429e-b24b-3f0f58bd0177",
   "metadata": {},
   "source": [
    "### Load the best model and plot classification"
   ]
  },
  {
   "cell_type": "code",
   "execution_count": null,
   "id": "d8571481-0fbc-4056-bb22-38a5d94f0532",
   "metadata": {
    "pycharm": {
     "is_executing": true
    }
   },
   "outputs": [],
   "source": [
    "# TST load best model\n",
    "print('Best VAL model loss {:.4f} at epoch #{:d}.'.format(val_losses[best_val_loss_epoch], best_val_loss_epoch))\n",
    "for layer_id in range(len(model_best_params)):\n",
    "    for key, value in model_best_params[layer_id].items():\n",
    "        model[layer_id].params()[key] = value\n",
    "\n",
    "# TST forward pass40\n",
    "activation = X_tst\n",
    "for layer in model:\n",
    "    activation = layer.forward(activation)\n",
    "y_hat = (activation > 0.5).astype(int)\n",
    "\n",
    "loss = trn_head.forward(activation, y_tst)\n",
    "print(\"[TST] MSE loss {:.4f}\".format(loss.mean()))\n",
    "\n",
    "test_error = np.mean(y_hat != y_tst)\n",
    "print(\"[TST] error {:.4f}\".format(test_error))\n",
    "\n",
    "plt.figure(figsize=(15, 10))\n",
    "plt.title('NN classification: test error {:.4f}'.format(test_error))\n",
    "show_classification(X_tst.transpose(1, 0).reshape(28, 28, -1), y_hat.squeeze(), '{}{}'.format(class_a,\n",
    "                                                                                              class_b))\n",
    "plt.savefig('numpy_nn_classification.png')\n",
    "plt.show()"
   ]
  },
  {
   "cell_type": "code",
   "execution_count": null,
   "id": "74f8cdd9-53c0-4427-b3b4-8317436704da",
   "metadata": {
    "pycharm": {
     "is_executing": true
    }
   },
   "outputs": [],
   "source": []
  }
 ],
 "metadata": {
  "kernelspec": {
   "display_name": "Python 3 (ipykernel)",
   "language": "python",
   "name": "python3"
  },
  "language_info": {
   "codemirror_mode": {
    "name": "ipython",
    "version": 3
   },
   "file_extension": ".py",
   "mimetype": "text/x-python",
   "name": "python",
   "nbconvert_exporter": "python",
   "pygments_lexer": "ipython3",
   "version": "3.8.3"
  }
 },
 "nbformat": 4,
 "nbformat_minor": 5
}
